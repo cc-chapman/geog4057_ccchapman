{
 "cells": [
  {
   "cell_type": "code",
   "execution_count": 13,
   "metadata": {},
   "outputs": [],
   "source": [
    "import json\n",
    "with open(r'C:\\Users\\cecil\\Documents\\programming\\geog4057_ccchapman\\project\\data\\no_tax.json', 'r') as file:\n",
    "    tax_json = json.load(file)"
   ]
  },
  {
   "cell_type": "code",
   "execution_count": 14,
   "metadata": {},
   "outputs": [],
   "source": [
    "import arcpy\n",
    "for row in tax_json['data']:\n",
    "    row[8] = arcpy.FromWKT(row[8])"
   ]
  },
  {
   "cell_type": "code",
   "execution_count": 16,
   "metadata": {},
   "outputs": [
    {
     "name": "stdout",
     "output_type": "stream",
     "text": [
      "FID\n",
      "Shape\n",
      "Id\n"
     ]
    }
   ],
   "source": [
    "import os\n",
    "fcname = 'notax_fc.shp'\n",
    "workspace = r'C:\\Users\\cecil\\Documents\\programming\\geog4057_ccchapman\\project\\data'\n",
    "fc_fullname = os.path.join(workspace,fcname)\n",
    "if arcpy.Exists(fc_fullname):\n",
    "    arcpy.management.Delete(fc_fullname)\n",
    "\n",
    "arcpy.management.CreateFeatureclass(out_path=workspace,out_name=fcname,\n",
    "                                    geometry_type='POLYGON',\n",
    "                                    spatial_reference=4236)\n",
    "\n",
    "desc = arcpy.da.Describe(fc_fullname)\n",
    "for field in desc['fields']:\n",
    "    print(field.name)"
   ]
  },
  {
   "cell_type": "code",
   "execution_count": 17,
   "metadata": {},
   "outputs": [
    {
     "name": "stdout",
     "output_type": "stream",
     "text": [
      "sid\n",
      "id\n",
      "position\n",
      "created_at\n",
      "created_meta\n",
      "updated_at\n",
      "updated_meta\n",
      "meta\n",
      "the_geom\n",
      "OBJECTID\n",
      "ID\n",
      "Cluster Letter\n",
      "Shape.STArea()\n",
      "Shape.STLength()\n"
     ]
    },
    {
     "data": {
      "text/plain": [
       "['sid',\n",
       " 'id_1',\n",
       " 'position',\n",
       " 'created_at',\n",
       " 'created_me',\n",
       " 'updated_at',\n",
       " 'updated_me',\n",
       " 'meta',\n",
       " 'OBJECTID',\n",
       " 'id_10',\n",
       " 'Cluster_Le',\n",
       " 'Shape_STAr',\n",
       " 'Shape_STLe']"
      ]
     },
     "execution_count": 17,
     "metadata": {},
     "output_type": "execute_result"
    }
   ],
   "source": [
    "## add field names\n",
    "fields = tax_json['meta']['view']['columns']\n",
    "for field in fields:\n",
    "    print(field['name'])\n",
    "field_type = ['TEXT','TEXT','LONG','LONG','TEXT','LONG','TEXT','TEXT','TEXT','TEXT','TEXT','TEXT','TEXT']\n",
    "field_names = []\n",
    "for ind,field in enumerate(fields):\n",
    "    name = field['name']\n",
    "    if name == 'the_geom':\n",
    "        continue\n",
    "    if name.lower() == 'id':\n",
    "        name = f'id_{ind}'\n",
    "    max_len = min(10,len(name))\n",
    "    name = name[:max_len]\n",
    "    field_names.append(name)\n",
    "field_names = [field.replace(\" \",\"_\") for field in field_names]\n",
    "field_names = [field.replace(\".\",\"_\") for field in field_names]\n",
    "field_names"
   ]
  },
  {
   "cell_type": "code",
   "execution_count": 18,
   "metadata": {},
   "outputs": [],
   "source": [
    "for ind,field_name in enumerate(field_names):\n",
    "    arcpy.management.AddField(fc_fullname,field_name=field_name,field_type=field_type[ind])\n",
    "field_names.append('SHAPE@')"
   ]
  },
  {
   "cell_type": "code",
   "execution_count": 19,
   "metadata": {},
   "outputs": [],
   "source": [
    "with arcpy.da.InsertCursor(fc_fullname,field_names=field_names) as cursor:\n",
    "    for row in tax_json['data']:\n",
    "        new_row = []\n",
    "        for ind, value in enumerate(row):\n",
    "            if ind == 8:\n",
    "                continue\n",
    "            if value == None:\n",
    "                value = \"\"\n",
    "            new_row.append(value)\n",
    "        new_row.append(row[8])\n",
    "        cursor.insertRow(new_row)"
   ]
  }
 ],
 "metadata": {
  "kernelspec": {
   "display_name": "ArcPyClone",
   "language": "python",
   "name": "arcpyclone"
  },
  "language_info": {
   "codemirror_mode": {
    "name": "ipython",
    "version": 3
   },
   "file_extension": ".py",
   "mimetype": "text/x-python",
   "name": "python",
   "nbconvert_exporter": "python",
   "pygments_lexer": "ipython3",
   "version": "3.11.8"
  }
 },
 "nbformat": 4,
 "nbformat_minor": 2
}
