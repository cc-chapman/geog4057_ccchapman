{
 "cells": [
  {
   "cell_type": "markdown",
   "metadata": {},
   "source": [
    "# Assignment 4 Python fundamentals"
   ]
  },
  {
   "cell_type": "markdown",
   "metadata": {},
   "source": [
    "## Requirements: (10 pnts)\n",
    "- Add this notebook to ArcGIS Pro\n",
    "- for each of following questions, add and fill a code box with your answer, and run it to get the output\n",
    "- Upload the updated ipynb file as your assignment submission to Moodle for grading\n",
    "- 10 pnts go to on-time submissions "
   ]
  },
  {
   "cell_type": "markdown",
   "metadata": {},
   "source": [
    "### Q1 County name list (15 pnts)\n",
    "- Find out the five parishes in Louisiana with the most population (by Google or some other sources)\n",
    "- Create a *list* named *counties* with the five county names (2 pnts)\n",
    "- print the length of the list (3 pnts)\n",
    "- Use a *for loop* to print the county names one by one (10 pnts)\n"
   ]
  },
  {
   "cell_type": "code",
   "execution_count": 47,
   "metadata": {},
   "outputs": [
    {
     "name": "stdout",
     "output_type": "stream",
     "text": [
      "5\n",
      "East Baton Rouge Parish\n",
      "Jefferson Parish\n",
      "Orleans Parish\n",
      "St. Tammany Parish\n",
      "Lafayette Parish\n"
     ]
    }
   ],
   "source": [
    "# Creating a list of the 5 most populous parishes of Louisiana\n",
    "PopParish = [\"East Baton Rouge Parish\", \"Jefferson Parish\", \"Orleans Parish\", \"St. Tammany Parish\", \"Lafayette Parish\"]\n",
    "print(len(PopParish))\n",
    "for x in PopParish:\n",
    "    print(x)"
   ]
  },
  {
   "cell_type": "markdown",
   "metadata": {},
   "source": [
    "### Q2 County population dictionary (15 pnts)\n",
    "- Create a *dictionary* named *county_pop* with the five county names as keys and their population as values (2 pnts)\n",
    "- print the population of the county that has the largest population using the dict[key] operator (e.g. county_pop['countyname']) (3 pnts)\n",
    "- print the population of the county that has the least population (2 pnts)\n",
    "- Use a for loop to calculate the total population from the dictionary (hint, for county in county_pop: ... ) (10 pnts)"
   ]
  },
  {
   "cell_type": "code",
   "execution_count": 2,
   "metadata": {},
   "outputs": [
    {
     "name": "stdout",
     "output_type": "stream",
     "text": [
      "448467\n",
      "249750\n",
      "1759713\n"
     ]
    }
   ],
   "source": [
    "county_pop = {'East Baton Rouge Parish': 448467, 'Jefferson Parish': 421777, 'Orleans Parish': 364136, 'St. Tammany Parish': 275583, 'Lafayette Parish': 249750}\n",
    "print(county_pop['East Baton Rouge Parish'])\n",
    "print(county_pop['Lafayette Parish'])\n",
    "pop_sum = 0\n",
    "for county in county_pop.values():\n",
    "    pop_sum += county\n",
    "print(pop_sum)"
   ]
  },
  {
   "cell_type": "markdown",
   "metadata": {},
   "source": [
    "### Q3 string formatting (10 pnts)\n",
    "- Use the county_pop dictionary to print the county names and populations as the following formatted string: (10 pnts)\n",
    "county1 has a population of ###\n",
    "county2 has a population of ###\n",
    "...\n",
    "- You can choose to use a for loop or not"
   ]
  },
  {
   "cell_type": "code",
   "execution_count": 113,
   "metadata": {
    "scrolled": true
   },
   "outputs": [
    {
     "name": "stdout",
     "output_type": "stream",
     "text": [
      "East Baton Rouge Parish has a population of 448467\n",
      "Jefferson Parish has a population of 421777\n",
      "Orleans Parish has a population of 364136\n",
      "St. Tammany Parish has a population of 275583\n",
      "Lafayette Parish has a population of 249750\n"
     ]
    }
   ],
   "source": [
    "county_pop = {'East Baton Rouge Parish': 448467, 'Jefferson Parish': 421777, 'Orleans Parish': 364136, 'St. Tammany Parish': 275583, 'Lafayette Parish': 249750}\n",
    "for key in county_pop:\n",
    "    print(f\"{key} has a population of {county_pop[key]}\")"
   ]
  },
  {
   "cell_type": "markdown",
   "metadata": {},
   "source": [
    "### Q4 shape file names for each county (10 pnts)\n",
    "- Use the counties list as input\n",
    "- For each county, create the string for its shapefile name. For example, county1.shp, county2.shp (hint: use the + operator or the f-string feature) (10 pnts)\n",
    "- You can choose to use a for loop or not \n"
   ]
  },
  {
   "cell_type": "code",
   "execution_count": 123,
   "metadata": {},
   "outputs": [
    {
     "name": "stdout",
     "output_type": "stream",
     "text": [
      "EastBatonRougeParish.shp\n",
      "JeffersonParish.shp\n",
      "OrleansParish.shp\n",
      "StTammanyParish.shp\n",
      "LafayetteParish.shp\n"
     ]
    }
   ],
   "source": [
    "Parish = [\"EastBatonRougeParish\", \"JeffersonParish\", \"OrleansParish\", \"StTammanyParish\", \"LafayetteParish\"]\n",
    "print(f\"{Parish[0]}.shp\")\n",
    "print(f\"{Parish[1]}.shp\")\n",
    "print(f\"{Parish[2]}.shp\")\n",
    "print(f\"{Parish[3]}.shp\")\n",
    "print(f\"{Parish[4]}.shp\")"
   ]
  },
  {
   "cell_type": "markdown",
   "metadata": {},
   "source": [
    "### Q5 create a full path name for each county (10 pnts)\n",
    "- Define a variable called *data_path* and store a string as a path name. For example, \"C:/data\" (5 pnts)\n",
    "- Use the os.path.join() function to create a full path name for each county. For example, \"C:/data/county1.shp\" (5 pnts)\n",
    "- Required: you have to use a for...loop on this question"
   ]
  },
  {
   "cell_type": "code",
   "execution_count": 1,
   "metadata": {},
   "outputs": [
    {
     "ename": "SyntaxError",
     "evalue": "invalid syntax (<string>, line 3)",
     "output_type": "error",
     "traceback": [
      "\u001b[0;31m---------------------------------------------------------------------------\u001b[0m\n\u001b[0;31mSyntaxError\u001b[0m                               Traceback (most recent call last)",
      "File \u001b[0;34mC:\\Program Files\\ArcGIS\\Pro\\bin\\Python\\envs\\arcgispro-py3\\Lib\\ast.py\u001b[0m, in \u001b[0;32mparse\u001b[0m:\nLine \u001b[0;34m50\u001b[0m:    \u001b[34mreturn\u001b[39;49;00m \u001b[36mcompile\u001b[39;49;00m(source, filename, mode, flags,\u001b[37m\u001b[39;49;00m\n",
      "\u001b[0;31mSyntaxError\u001b[0m: invalid syntax (<string>, line 3)\n\u001b[0;31m---------------------------------------------------------------------------\u001b[0m"
     ]
    }
   ],
   "source": [
    "data_path = r\"C:\\Users\\cecil\\Documents\\programming\\geog4057_ccchapman\"\n",
    "\n",
    "defos.path.join())"
   ]
  },
  {
   "cell_type": "markdown",
   "metadata": {},
   "source": [
    "### Q6 Define a function (30 pnts)\n",
    "- Define a function called countPopulation (5 pnts)\n",
    "- Define the function's docstring using the triple quotes with following content:(5 pnts)\n",
    "  <q>Compute the total populatoin of the counties in the dictionary \n",
    "   GEOG 4057 GIS Programming</q>\n",
    "\n",
    "- Complete the fucntion so it can return the value of total population (10 pnts)\n",
    "- print the function's docstring using the dunder doc attribute (5 pnts)\n",
    "- Call the function from the code block to print the total population (5 pnts)"
   ]
  }
 ],
 "metadata": {
  "kernelspec": {
   "display_name": "ArcGISPro",
   "language": "Python",
   "name": "python3"
  },
  "language_info": {
   "file_extension": ".py",
   "name": "python",
   "version": "3"
  }
 },
 "nbformat": 4,
 "nbformat_minor": 2
}
