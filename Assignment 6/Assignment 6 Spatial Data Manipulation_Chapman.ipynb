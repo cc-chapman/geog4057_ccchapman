{
 "cells": [
  {
   "cell_type": "markdown",
   "metadata": {},
   "source": [
    "# Introduction\n",
    " In this assignment, you will do exercises on arcpy.Exists(), arcpy.Walk(), arcpy.da.Describe(), python list comprehension, arcpy.da.SearchCursor, and arcpy.da.InsertCursor(). In each section, a code block is provided but not ready to run. You need to add this notebook to ArcGIS Pro, modify each block to make it runable, keep the output message , and write an explanation of the code block. \n",
    "\n",
    " Data preparation: \n",
    " Use the same zip file from assignment 4 for this exercise. The zip file contains a geodatabase and a folder with shapefles. Download the data from the [data](../data) folder of the github website. Extract the zip file and use the geodatabase and the folder containing the shapefiles accordingly.  "
   ]
  },
  {
   "cell_type": "markdown",
   "metadata": {},
   "source": [
    "## Read a text file for data and write them into a feature class using InsertCursor\n",
    "\n",
    "- This code uses the points.csv file in the same folder of the notebook \n",
    "- Modify the geodatabase_path variable to make it work and write the \"points\" feature class in your geodatabase\n"
   ]
  },
  {
   "cell_type": "code",
   "execution_count": 3,
   "metadata": {},
   "outputs": [
    {
     "name": "stdout",
     "output_type": "stream",
     "text": [
      "New point feature class 'points' created in 'C:\\Users\\cecil\\Documents\\ArcGIS\\Projects\\GEOG4057\\ex8\\Austin_data.gdb' with 5 fields.\n"
     ]
    }
   ],
   "source": [
    "import arcpy\n",
    "import csv\n",
    "\n",
    "# Prompt for user input\n",
    "csv_file_path = r\"C:\\Users\\cecil\\Documents\\ArcGIS\\Projects\\GEOG4057\\points.csv\"\n",
    "geodatabase_path = r\"C:\\Users\\cecil\\Documents\\ArcGIS\\Projects\\GEOG4057\\ex8\\Austin_data.gdb\"\n",
    "feature_class_name = \"points\"\n",
    "\n",
    "# Determine the number of fields and field names from the CSV header\n",
    "with open(csv_file_path, 'r') as csv_file:\n",
    "    csv_reader = csv.reader(csv_file)\n",
    "    header = next(csv_reader)\n",
    "    num_fields = len(header)\n",
    "\n",
    "# Create a new point feature class\n",
    "sr = arcpy.SpatialReference(4326)  \n",
    "arcpy.CreateFeatureclass_management(geodatabase_path, feature_class_name, \"POINT\", spatial_reference=sr)\n",
    "\n",
    "# Add fields to the feature class based on the CSV header\n",
    "field_info = arcpy.ListFields(geodatabase_path + \"/\" + feature_class_name)\n",
    "field_names = [field.name for field in field_info]\n",
    "for field in header:\n",
    "    if field not in field_names:\n",
    "        arcpy.AddField_management(geodatabase_path + \"/\" + feature_class_name, field, \"DOUBLE\")\n",
    "\n",
    "# Create a cursor for inserting point features with additional fields\n",
    "cursor_fields = [\"SHAPE@X\", \"SHAPE@Y\"] + header\n",
    "with arcpy.da.InsertCursor(geodatabase_path + \"/\" + feature_class_name, cursor_fields) as cursor:\n",
    "    # Read data from the CSV file and create point features with attributes\n",
    "    with open(csv_file_path, 'r') as csv_file:\n",
    "        csv_reader = csv.reader(csv_file)\n",
    "        \n",
    "        # Skip the header row (if present)\n",
    "        next(csv_reader, None)\n",
    "        \n",
    "        for row in csv_reader:\n",
    "            x = float(row[0])\n",
    "            y = float(row[1])\n",
    "            additional_fields = row\n",
    "            cursor.insertRow((x, y) + tuple(additional_fields))\n",
    "\n",
    "print(f\"New point feature class '{feature_class_name}' created in '{geodatabase_path}' with {num_fields} fields.\")"
   ]
  },
  {
   "cell_type": "markdown",
   "metadata": {},
   "source": [
    "**Edit this block to answer these three questions**\n",
    "\n",
    "### Q1: Line by line, explain what was done in the code. (20 pnts)\n",
    "\n",
    "1. imports the `arcpy` module\n",
    "2. imports the `csv` module\n",
    "3. blank line for readability\n",
    "4. comment explaining the function of the following code block to the user\n",
    "5. defines `csv_file_path` and assigns it the path to a user-specified CSV file\n",
    "6. defines `geodatabase_path` and assigns it the path to user-specified geodatabase file\n",
    "7. defines `feature_class_name` as the string \"points\"\n",
    "8. blank line for readability\n",
    "9. comment explaining the function of the following code block to the user\n",
    "10. uses a `with` statement to open `csv_file_path` in read mode\n",
    "11. creates a `csv_reader` object using the `csv.reader()` function from the `csv` module\n",
    "12. retrieves the header row of the CSV using the `next()` function\n",
    "13. calculates the number of fields by getting the length of the `header` list using the `len()` function\n",
    "14. blank line for readability\n",
    "15. comment explaining the function of the following code block to the user\n",
    "16. creates the spatial reference object `sr` using the `arcpy.SpatialReference` class and assigns it the spatial reference for WGS 84, which corresponds to the EPSG code 4326\n",
    "17. the `arcpy.CreateFeatureclass_management()` function uses the previously defined objects to create a new feature class in the specified geodatabase\n",
    "18. blank line for readability\n",
    "19. comment explaining the function of the following code block to the user\n",
    "20. uses the `arcpy.ListFields()` function to create a list named `field_info` of `Field` objects from the feature class\n",
    "21. creates a list of field names by extracting the `name` attribute from each `Field` object in `field_info`\n",
    "22. uses a `for` loop to iterate over each field name in `header`\n",
    "23. checks if the field from the `header` does not already exist in the `field_names` list\n",
    "24. uses the `arcpy.AddField_management()` function to add the field to the feature class if it is missing and assigns it the data type \"DOUBLE\"\n",
    "25. blank line for readability\n",
    "26. comment explaining the function of the following code block to the user\n",
    "27. creates a list of fields that will include the x and y coordinates (`SHAPE@X`, `SHAPE@Y`) for points and all of the field names from the `header` list\n",
    "28. uses a `with` statement to open an `InsertCursor` from the `arcpy.da` module to insert new points into the feature class\n",
    "29. comment explaining the function of the following code block to the user\n",
    "30. uses a `with` statement to open `csv_file_path` in read mode\n",
    "31. creates a `csv_reader` object using the `csv.reader()` function from the `csv` module\n",
    "32. blank line for readability\n",
    "33. comment explaining the function of the following code block to the user\n",
    "34. uses `next()` to skip the header row in `csv_reader`, if present\n",
    "35. blank line for readability\n",
    "36. uses a `for` loop to iterate over each row in `csv_reader`\n",
    "37. extracts and converts the x-coordinate from the first element of `row` to a float data type\n",
    "38. extracts and converts the y-coordinate from the second element of `row` to a float data type\n",
    "39. assigns the entire `row` to `additional_fields` for including all additional attribute data\n",
    "40. uses the `insertRow` method of the `cursor` object to write the x and y coordinates along with all of the additional fields to the feature class\n",
    "41. blank line for readability\n",
    "42. uses the `print()` function to inform the user that the new point feature class was created successfully and provides details about the feature class\n",
    "   \n",
    "### Q2: What does the code 4326 represent? (5 pnts)\n",
    "- The EPSG code for the spatial reference WGS 84\n",
    "\n",
    "### Q3: Explain what are `SHAPE@X` and `SHAPE@Y` (5 pnts)\n",
    "- `SHAPE@X` and `SHAPE@Y`are geometry tokens specific to `arcpy.da`. They are used to access or assign the x and y coordinates of point geometries when working with cursors"
   ]
  },
  {
   "cell_type": "markdown",
   "metadata": {},
   "source": [
    "## Use arcpy.Exist()\n",
    "\n",
    "- This code checks the existence of a specified dataset within an ArcGIS workspace.\n",
    "- Fill the dataset_name and workspace_path variables with the database and the feature class name (points) from the last block\n",
    "- Print a message indicating whether the dataset exists or not."
   ]
  },
  {
   "cell_type": "code",
   "execution_count": 6,
   "metadata": {},
   "outputs": [
    {
     "name": "stdout",
     "output_type": "stream",
     "text": [
      "The dataset 'points' exists in the workspace.\n"
     ]
    }
   ],
   "source": [
    "import arcpy\n",
    "import os\n",
    "\n",
    "# Prompt for user input\n",
    "dataset_name = \"points\"\n",
    "workspace_path = r\"C:\\Users\\cecil\\Documents\\ArcGIS\\Projects\\GEOG4057\\ex8\\Austin_data.gdb\"\n",
    "fullname = os.path.join(workspace_path,dataset_name)\n",
    "# Check if the dataset exists\n",
    "if arcpy.Exists(fullname):\n",
    "    print(f\"The dataset '{dataset_name}' exists in the workspace.\")\n",
    "else:\n",
    "    print(f\"The dataset '{dataset_name}' does not exist in the workspace.\")"
   ]
  },
  {
   "cell_type": "markdown",
   "metadata": {},
   "source": [
    "**Edit this block to answer the question**\n",
    "\n",
    "### Q4: Line by line describe what was done by the code in the block above. (10 pnts) \n",
    "\n",
    "1. imports the `arcpy` module\n",
    "2. imports the `os` module\n",
    "3. blank line for readability\n",
    "4. comment explaining the function of the following code block to the user\n",
    "5. defines `dataset_name` as the string \"points\"\n",
    "6. defines `workspace_path` and assigns it the path to a user-specified default geodatabase\n",
    "7. uses the `os.path.join()` function to concatenate `workspace_path` and `dataset_name`, resulting in the full path to the dataset (`fullname`)\n",
    "8. comment explaining the function of the following code block to the user\n",
    "9. the `if` statement uses the `arcpy.Exists()` function to check if the dataset \"points\" exists at the filepath specified by `fullname` and triggers the `print()` statement below if it does\n",
    "10. uses the `print()` function to inform the user that the dataset exists in the provided geodatabase\n",
    "11. the `else:` statement triggers the `print()` function below if the `if` condition is not met\n",
    "12. uses the `print()` function to inform the user that the dataset does not exist in the provided geodatabase\n"
   ]
  },
  {
   "cell_type": "markdown",
   "metadata": {},
   "source": [
    "## Use arcpy.Walk()\n",
    "\n",
    "- This code uses arcpy.Walk() to iterate through all feature datasets in the geodatabase you just used.\n",
    "- Modify the name of \"workspace\" to make the code work\n",
    "- Run the code to list all the feature classes within each dataset.\n"
   ]
  },
  {
   "cell_type": "code",
   "execution_count": 7,
   "metadata": {},
   "outputs": [
    {
     "name": "stdout",
     "output_type": "stream",
     "text": [
      "Feature Class in C:\\Users\\cecil\\Documents\\ArcGIS\\Projects\\GEOG4057\\ex8\\Austin_data.gdb: addresses\n",
      "Feature Class in C:\\Users\\cecil\\Documents\\ArcGIS\\Projects\\GEOG4057\\ex8\\Austin_data.gdb: base\n",
      "Feature Class in C:\\Users\\cecil\\Documents\\ArcGIS\\Projects\\GEOG4057\\ex8\\Austin_data.gdb: buildings\n",
      "Feature Class in C:\\Users\\cecil\\Documents\\ArcGIS\\Projects\\GEOG4057\\ex8\\Austin_data.gdb: facilities\n",
      "Feature Class in C:\\Users\\cecil\\Documents\\ArcGIS\\Projects\\GEOG4057\\ex8\\Austin_data.gdb: historical_landmarks\n",
      "Feature Class in C:\\Users\\cecil\\Documents\\ArcGIS\\Projects\\GEOG4057\\ex8\\Austin_data.gdb: hospitals\n",
      "Feature Class in C:\\Users\\cecil\\Documents\\ArcGIS\\Projects\\GEOG4057\\ex8\\Austin_data.gdb: parks\n",
      "Feature Class in C:\\Users\\cecil\\Documents\\ArcGIS\\Projects\\GEOG4057\\ex8\\Austin_data.gdb: sidewalks\n",
      "Feature Class in C:\\Users\\cecil\\Documents\\ArcGIS\\Projects\\GEOG4057\\ex8\\Austin_data.gdb: trees\n",
      "Feature Class in C:\\Users\\cecil\\Documents\\ArcGIS\\Projects\\GEOG4057\\ex8\\Austin_data.gdb: points\n"
     ]
    }
   ],
   "source": [
    "import arcpy\n",
    "\n",
    "# Define the workspace\n",
    "workspace = r\"C:\\Users\\cecil\\Documents\\ArcGIS\\Projects\\GEOG4057\\ex8\\Austin_data.gdb\" # note that you need to put a full path name for this workspace, even running it in ArcGIS Pro. \n",
    "\n",
    "# Use arcpy.Walk() to iterate through feature datasets\n",
    "for dirpath, dirnames, filenames in arcpy.da.Walk(workspace, datatype=\"FeatureClass\"):\n",
    "    for filename in filenames:\n",
    "        print(f\"Feature Class in {dirpath}: {filename}\")"
   ]
  },
  {
   "cell_type": "markdown",
   "metadata": {},
   "source": [
    "**Edit this block to answer the question**\n",
    "\n",
    "### Q5: line by line, describe what was done by the code in the block above. (10 pnts)\n",
    "\n",
    "1. imports the arcpy module\n",
    "2. blank line for readability\n",
    "3. comment explaining the function of the following code block to the user\n",
    "4. defines `workspace` and assigns it the path to a user-specified geodatabase \n",
    "5. blank line for readability\n",
    "6. comment explaining the function of the following code block to the user\n",
    "7. uses a `for` loop with `arcpy.da.Walk()` to iterate through the workspace, retrieving directories, subdirectories, and feature classes (`dirpath`, `dirnames`, and `filenames`)\n",
    "8. uses a nested `for` loop to iterate over each `filename` (FeatureClass) within the current directory\n",
    "9. uses the `print()` function to display the directory path (`dirpath`) and filename (`filename`) for each FeatureClass in the workspace"
   ]
  },
  {
   "cell_type": "markdown",
   "metadata": {},
   "source": [
    "## Use List Comprehension\n",
    "\n",
    "- The following block uses list comprehension to generate a list of .shp files in a specified folder.\n",
    "- Choose the folder name from assignment 4 data/paris subfolder where many shapefiles are located and use it for folder_path\n",
    "- Run the code to print the list of file names\n",
    "\n",
    "\n",
    "- In the second block, the code combines the os.walk() function with the list comprehension to  list all shapefiles in a folder including subfolders\n",
    "\n"
   ]
  },
  {
   "cell_type": "code",
   "execution_count": 1,
   "metadata": {},
   "outputs": [
    {
     "name": "stdout",
     "output_type": "stream",
     "text": [
      "Shapefiles in the folder:\n",
      "Metro_Entrances.shp\n",
      "Warehouses.shp\n"
     ]
    }
   ],
   "source": [
    "import os\n",
    "\n",
    "# Specify the folder path\n",
    "folder_path = r\"C:\\Users\\cecil\\Documents\\ArcGIS\\Projects\\GEOG4057\\ModelBuilder_data\\ParisData\"\n",
    "\n",
    "# Use list comprehension to generate a list of .shp files\n",
    "shp_files = [file for file in os.listdir(folder_path) if file.endswith(\".shp\")]\n",
    "\n",
    "# Print the list of .shp files\n",
    "print(\"Shapefiles in the folder:\")\n",
    "for shp_file in shp_files:\n",
    "    print(shp_file)"
   ]
  },
  {
   "cell_type": "code",
   "execution_count": 2,
   "metadata": {},
   "outputs": [
    {
     "name": "stdout",
     "output_type": "stream",
     "text": [
      "Shapefiles in the folder:\n",
      "Metro_Entrances.shp\n",
      "Warehouses.shp\n",
      "Stores.shp\n",
      "Parks.shp\n",
      "Metro_Lines.shp\n",
      "Metro_LinesAOI.shp\n",
      "Metro_Stations.shp\n",
      "Streets.shp\n"
     ]
    }
   ],
   "source": [
    "import os\n",
    "# Specify the folder path\n",
    "folder_path = r\"C:\\Users\\cecil\\Documents\\ArcGIS\\Projects\\GEOG4057\\ModelBuilder_data\\ParisData\"\n",
    "\n",
    "print(\"Shapefiles in the folder:\")\n",
    "for root, dirs, files in os.walk(folder_path):\n",
    "    shp_files = [file for file in files if file.endswith(\".shp\")]\n",
    "    for shp_file in shp_files:\n",
    "            print(shp_file)"
   ]
  },
  {
   "cell_type": "markdown",
   "metadata": {},
   "source": [
    "**Edit this block to answer the question**\n",
    "\n",
    "Q6: Describe what was done by the code in first blocks above. (10 pnts)\n",
    "\n",
    "- After specifying the folder path, the code uses `os.listdir` to list all files in the specified folder and a list comprehension with a conditional `if file.endswith(\".shp\")` to filter for shapefiles. The filtered list of shapefiles is then printed line by line using a `for` loop. This allows the user to see all the shapefiles in the specified folder.\n",
    "\n",
    "\n",
    "Q7: Describe what was done by the code in second blocks above. (10 pnts)\n",
    "\n",
    "- After specifying the folder path, the code uses a `for` loop with `os.walk` to iterate through the specified folder and its subfolder. For each folder or subfolder, it filters the list of files to find shapefiles using list comprehension with a conditional `if file.endswith(\".shp\")`. The filtered list of shapefiles is then printed line by line using a `for` loop. Unline `os.listdir`, `os.walk` does not just list the contents of the specified folder, but any subfolders that it contains."
   ]
  },
  {
   "cell_type": "markdown",
   "metadata": {},
   "source": [
    "## Use arcpy.da.SearchCursor\n",
    "\n",
    "- This code uses arcpy.da.SearchCursor to extract attribute information from a feature class.\n",
    "- Enter the name of the \"points\" feature class and the field(s) from the feature class to extract.\n",
    "- Run and display the extracted data.\n"
   ]
  },
  {
   "cell_type": "code",
   "execution_count": 6,
   "metadata": {
    "scrolled": true
   },
   "outputs": [
    {
     "name": "stdout",
     "output_type": "stream",
     "text": [
      "Extracted Data:\n",
      "['Saint-Jacques', 131, 72]\n",
      "['Montparnasse-Bienvenue', 135, 72]\n",
      "['Boissière', 143, 72]\n",
      "['Porte de Clignancourt', 74, 70]\n",
      "['Mouton-Duvernet', 96, 70]\n"
     ]
    }
   ],
   "source": [
    "import arcpy\n",
    "\n",
    "# Prompt for user input\n",
    "fc_path = r\"C:\\Users\\cecil\\Documents\\ArcGIS\\Projects\\GEOG4057\\GEOG4057.gdb\\Metro_Stations_Project_RandomPoints\"\n",
    "fields_to_extract = [\"NAME\", \"ID_STATION\", \"ID_LINE\"]\n",
    "\n",
    "# Use arcpy.da.SearchCursor to extract data\n",
    "with arcpy.da.SearchCursor(fc_path, fields_to_extract) as cursor:\n",
    "    print(\"Extracted Data:\")\n",
    "    for row in cursor:\n",
    "        print([row[i] for i in range(len(fields_to_extract))])"
   ]
  },
  {
   "cell_type": "markdown",
   "metadata": {},
   "source": [
    "**Edit this block to answer the question**\n",
    "\n",
    "Q8: Line by line, explain what was done in the code. 10 pnts \n",
    "\n",
    "1. imports the arcpy module\n",
    "2. blank line for readability\n",
    "3. comment explaining the function of the following code block to the user\n",
    "4. defines `fc_path` and assigns it the path to a user-specified feature class\n",
    "5. defines `fields_to_extract` and assigns it a list of user-specified fields to extract from the feature class\n",
    "6. blank line for readability\n",
    "7. comment explaining the function of the following code block to the user\n",
    "8. uses a `with` statement to open a `SearchCursor` from the `arcpy.da` module, enabling access to the user-specified fields of the feature class\n",
    "9. uses the `print()` function to display a heading \"Extracted Data:\"\n",
    "10. uses a `for` loop to iterate through the rows in the `SearchCursor` results\n",
    "11. uses the `print()` function to display the values of the user-specified fields for each row of the feature class"
   ]
  },
  {
   "cell_type": "markdown",
   "metadata": {},
   "source": [
    "## Use addField and field Calculator\n",
    "\n",
    "- Run the following code block (with \"points\" feature class added to the last map before you switched into the notebook interface)"
   ]
  },
  {
   "cell_type": "code",
   "execution_count": 7,
   "metadata": {},
   "outputs": [
    {
     "data": {
      "text/html": [
       "<div class='gpresult'><h2>Messages</h2><div id='messages'>Start Time: Tuesday, December 10, 2024 3:27:30 PM<br>Succeeded at Tuesday, December 10, 2024 3:27:30 PM (Elapsed Time: 0.25 seconds)<br></div><div id = 'default' /></div></div>"
      ],
      "text/plain": [
       "<Result 'points'>"
      ]
     },
     "execution_count": 7,
     "metadata": {},
     "output_type": "execute_result"
    }
   ],
   "source": [
    "import arcpy\n",
    "fc = \"points\"\n",
    "newfieldName = \"all\"\n",
    "arcpy.AddField_management(fc, newfieldName, \"DOUBLE\")\n",
    "expression = \"sum(!Field1!,!Field2!,!Field3!)\"\n",
    "codeblock = \"\"\"\n",
    "def sum(*fields):\n",
    "    sum = 0\n",
    "    for field in fields:\n",
    "        sum += field\n",
    "    return sum\n",
    "\"\"\"\n",
    "arcpy.CalculateField_management(fc, newfieldName, expression, \"\", codeblock)"
   ]
  },
  {
   "cell_type": "markdown",
   "metadata": {},
   "source": [
    "**Edit this block to answer the question**\n",
    "\n",
    "Q8: line by line, describe what was done by the code in the block above. 10 pnts\n",
    "\n",
    "1. imports the `arcpy` module\n",
    "2. defines `fc` and assigns it to the feature class \"points\" in the current Map\n",
    "3. defines `newfieldName` and assigns it the name \"all\"\n",
    "4. calls `AddField_management()` from `arcpy` to add a new field in the feature class (`fc`), naming it (`newfieldName`), and assigning it the datatype \"DOUBLE\"\n",
    "5. defines `expression` as the string `sum(!Field1!,!Field2!,!Field3!)` which specifies how the new field will be calculated\n",
    "6. begins a code block athat defines the logic for the calculation\n",
    "7. defines a function named `sum` that can accept multiple fields as arguments (`*fields`)\n",
    "8. creates a variable `sum` and assigns it the initial value of `0` to store the cumulative total\n",
    "9. uses a `for` loop to iterate through each field passed to the `sum` function\n",
    "10. adds the value of each field to the running total (`sum`)\n",
    "11. returns the final computed sum after all the field values have been processed\n",
    "12. closes the code block with `\"\"\"`\n",
    "13. calls the `CalculateField_management` module from `arcpy` to fill in the rows of the newly created field (`newfieldName`) with the results of calculation defined by `expression` and `codeblock`\n",
    "\n",
    "\n",
    "Q9: Open the attribute table of \"points\" and check if the attribute table has a new filed \"all\" and correct values. Right-click the \"all\" field and click field calculator. Describe what you see in the field calculator interface. Compare the python code versus the field calculator interface. 10 pnts\n",
    "\n",
    "- The Field Calculator interface has input fields for the Input Table (the dataset being modified), the Field Name (either an existing field or a new one to calculate values for), and Expression Type (the coding language to use, such as Python or Arcade). Below these, there are fields for the Expression (the formula or calculation) and an optional Code Block (for defining custom functions).\n",
    "- Because we already calculated this field in our notebook, the fields have been pre-populated with the corresponding values:\n",
    "    - The Input Table is set to the feature class `\"points\"`\n",
    "    - The Field Name is set to the new field `\"all\"`\n",
    "    - The Expression is populated with `\"sum(!Field1!,!Field2!,!Field3!)\"`\n",
    "    - The Code Block contains the custom Python function used to calculate the sum of the specified fields"
   ]
  }
 ],
 "metadata": {
  "kernelspec": {
   "display_name": "ArcGISPro",
   "language": "Python",
   "name": "python3"
  },
  "language_info": {
   "file_extension": ".py",
   "name": "python",
   "version": "3"
  }
 },
 "nbformat": 4,
 "nbformat_minor": 2
}
